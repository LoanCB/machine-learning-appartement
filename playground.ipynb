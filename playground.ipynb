{
 "cells": [
  {
   "cell_type": "markdown",
   "metadata": {},
   "source": [
    "# Imports"
   ]
  },
  {
   "cell_type": "code",
   "execution_count": 71,
   "metadata": {},
   "outputs": [],
   "source": [
    "import pandas as pd\n",
    "import matplotlib.pyplot as plt"
   ]
  },
  {
   "cell_type": "markdown",
   "metadata": {},
   "source": [
    "# Clean data"
   ]
  },
  {
   "cell_type": "code",
   "execution_count": 57,
   "metadata": {},
   "outputs": [],
   "source": [
    "df = pd.read_csv('data/french_apartment.csv')\n",
    "\n",
    "df.area = df.area.round(2)"
   ]
  },
  {
   "cell_type": "markdown",
   "metadata": {},
   "source": [
    "# Calculate category"
   ]
  },
  {
   "cell_type": "code",
   "execution_count": 58,
   "metadata": {},
   "outputs": [
    {
     "data": {
      "text/html": [
       "<div>\n",
       "<style scoped>\n",
       "    .dataframe tbody tr th:only-of-type {\n",
       "        vertical-align: middle;\n",
       "    }\n",
       "\n",
       "    .dataframe tbody tr th {\n",
       "        vertical-align: top;\n",
       "    }\n",
       "\n",
       "    .dataframe thead th {\n",
       "        text-align: right;\n",
       "    }\n",
       "</style>\n",
       "<table border=\"1\" class=\"dataframe\">\n",
       "  <thead>\n",
       "    <tr style=\"text-align: right;\">\n",
       "      <th></th>\n",
       "      <th>price</th>\n",
       "      <th>area</th>\n",
       "      <th>years of construction</th>\n",
       "      <th>balcony</th>\n",
       "      <th>garage</th>\n",
       "      <th>rating</th>\n",
       "      <th>city</th>\n",
       "      <th>category</th>\n",
       "    </tr>\n",
       "  </thead>\n",
       "  <tbody>\n",
       "    <tr>\n",
       "      <th>0</th>\n",
       "      <td>718458</td>\n",
       "      <td>96.31</td>\n",
       "      <td>2023</td>\n",
       "      <td>1</td>\n",
       "      <td>0</td>\n",
       "      <td>5</td>\n",
       "      <td>Marseille</td>\n",
       "      <td>scam</td>\n",
       "    </tr>\n",
       "    <tr>\n",
       "      <th>1</th>\n",
       "      <td>234271</td>\n",
       "      <td>148.41</td>\n",
       "      <td>2005</td>\n",
       "      <td>1</td>\n",
       "      <td>0</td>\n",
       "      <td>1</td>\n",
       "      <td>Paris</td>\n",
       "      <td>low</td>\n",
       "    </tr>\n",
       "    <tr>\n",
       "      <th>2</th>\n",
       "      <td>819375</td>\n",
       "      <td>136.93</td>\n",
       "      <td>2015</td>\n",
       "      <td>0</td>\n",
       "      <td>1</td>\n",
       "      <td>3</td>\n",
       "      <td>Marseille</td>\n",
       "      <td>high</td>\n",
       "    </tr>\n",
       "    <tr>\n",
       "      <th>3</th>\n",
       "      <td>841559</td>\n",
       "      <td>170.10</td>\n",
       "      <td>2013</td>\n",
       "      <td>1</td>\n",
       "      <td>0</td>\n",
       "      <td>1</td>\n",
       "      <td>Lyon</td>\n",
       "      <td>normal</td>\n",
       "    </tr>\n",
       "    <tr>\n",
       "      <th>4</th>\n",
       "      <td>594298</td>\n",
       "      <td>38.50</td>\n",
       "      <td>2022</td>\n",
       "      <td>1</td>\n",
       "      <td>1</td>\n",
       "      <td>5</td>\n",
       "      <td>Marseille</td>\n",
       "      <td>scam</td>\n",
       "    </tr>\n",
       "  </tbody>\n",
       "</table>\n",
       "</div>"
      ],
      "text/plain": [
       "    price    area  years of construction  balcony  garage  rating       city  \\\n",
       "0  718458   96.31                   2023        1       0       5  Marseille   \n",
       "1  234271  148.41                   2005        1       0       1      Paris   \n",
       "2  819375  136.93                   2015        0       1       3  Marseille   \n",
       "3  841559  170.10                   2013        1       0       1       Lyon   \n",
       "4  594298   38.50                   2022        1       1       5  Marseille   \n",
       "\n",
       "  category  \n",
       "0     scam  \n",
       "1      low  \n",
       "2     high  \n",
       "3   normal  \n",
       "4     scam  "
      ]
     },
     "execution_count": 58,
     "metadata": {},
     "output_type": "execute_result"
    }
   ],
   "source": [
    "average_price = {\n",
    "  'Paris': 9224, # 09 24\n",
    "  'Lyon': 4717, # 07 24\n",
    "  'Marseille': 3680 # 07 24\n",
    "}\n",
    "\n",
    "def categorize_price(row):\n",
    "  price = row['price'] / row['area']\n",
    "  average = average_price[row.city]\n",
    "\n",
    "  if price < average * 0.7:\n",
    "    return 'low'\n",
    "  elif price < average * 1.3:\n",
    "    return 'normal'\n",
    "  elif price < average * 1.7:\n",
    "    return 'high'\n",
    "  else:\n",
    "    return 'scam'\n",
    "  \n",
    "df['category'] = df.apply(categorize_price, axis=1)\n",
    "\n",
    "df.head()"
   ]
  },
  {
   "cell_type": "markdown",
   "metadata": {},
   "source": [
    "# Numpy & Pandas"
   ]
  },
  {
   "cell_type": "markdown",
   "metadata": {},
   "source": [
    "## Area"
   ]
  },
  {
   "cell_type": "code",
   "execution_count": 66,
   "metadata": {},
   "outputs": [
    {
     "name": "stdout",
     "output_type": "stream",
     "text": [
      "Moyenne de la surface :  110.73969\n",
      "Écart-type de la surface :  51.37669580924971\n",
      "Surface minimale :  20.05\n",
      "Surface maximale :  199.77\n"
     ]
    }
   ],
   "source": [
    "average_area = df.area.mean()\n",
    "deviation_area = df.area.std()\n",
    "min_area = df.area.min()\n",
    "max_area = df.area.max()\n",
    "\n",
    "print(\"Moyenne de la surface : \", average_area)\n",
    "print(\"Écart-type de la surface : \", deviation_area)\n",
    "print(\"Surface minimale : \", min_area)\n",
    "print(\"Surface maximale : \", max_area)"
   ]
  },
  {
   "cell_type": "markdown",
   "metadata": {},
   "source": [
    "## Year of construction"
   ]
  },
  {
   "cell_type": "code",
   "execution_count": 72,
   "metadata": {},
   "outputs": [
    {
     "name": "stdout",
     "output_type": "stream",
     "text": [
      "Moyenne de l'année de construction :  2015\n",
      "Année la plus ancienne :  2005\n",
      "Année la plus récente :  2024\n"
     ]
    }
   ],
   "source": [
    "average_year = round(df['years of construction'].mean())\n",
    "min_year = df['years of construction'].min()\n",
    "max_year = df['years of construction'].max()\n",
    "\n",
    "print(\"Moyenne de l'année de construction : \", average_year)\n",
    "print(\"Année la plus ancienne : \", min_year)\n",
    "print(\"Année la plus récente : \", max_year)"
   ]
  },
  {
   "cell_type": "markdown",
   "metadata": {},
   "source": [
    "## Balcony"
   ]
  },
  {
   "cell_type": "code",
   "execution_count": 69,
   "metadata": {},
   "outputs": [
    {
     "name": "stdout",
     "output_type": "stream",
     "text": [
      "Pourcentage de balcon : 50.1 %\n"
     ]
    }
   ],
   "source": [
    "average_balcony = df.balcony.mean()\n",
    "\n",
    "print(f\"Pourcentage de balcon : {round(average_balcony * 100, 2)} %\")"
   ]
  },
  {
   "cell_type": "markdown",
   "metadata": {},
   "source": [
    "## Category"
   ]
  },
  {
   "cell_type": "code",
   "execution_count": 70,
   "metadata": {},
   "outputs": [
    {
     "name": "stdout",
     "output_type": "stream",
     "text": [
      "category\n",
      "low       382\n",
      "normal    262\n",
      "scam      248\n",
      "high      108\n",
      "Name: count, dtype: int64\n"
     ]
    }
   ],
   "source": [
    "category_count_total = df.category.value_counts()\n",
    "\n",
    "print(category_count_total)"
   ]
  },
  {
   "cell_type": "markdown",
   "metadata": {},
   "source": [
    "## Number of rooms"
   ]
  },
  {
   "cell_type": "code",
   "execution_count": null,
   "metadata": {},
   "outputs": [],
   "source": [
    "rooms_average = df['number of rooms'].mean()\n",
    "rooms_median = df['number of rooms'].median()\n",
    "rooms_variance = df['number of rooms'].var()\n",
    "rooms_deviation = df['number of rooms'].std()\n",
    "\n",
    "print(\"Moyenne des chambres : \", rooms_average)\n",
    "print(\"Médiane des chambres : \", rooms_median)\n",
    "print(\"Variance des chambres : \", rooms_variance)\n",
    "print(\"Écart-type des chambres : \", rooms_deviation)"
   ]
  },
  {
   "cell_type": "markdown",
   "metadata": {},
   "source": [
    "# Matplop"
   ]
  },
  {
   "cell_type": "code",
   "execution_count": 78,
   "metadata": {},
   "outputs": [
    {
     "data": {
      "image/png": "[encoded data removed]",
      "text/plain": [
       "<Figure size 800x600 with 1 Axes>"
      ]
     },
     "metadata": {},
     "output_type": "display_data"
    }
   ],
   "source": [
    "plt.figure(figsize=(8,6))\n",
    "df['category'].value_counts().plot(kind='bar')\n",
    "\n",
    "plt.title('Répartition des appartements par catégorie')\n",
    "plt.xlabel('Catégories')\n",
    "plt.ylabel(\"Nombre d'appartements\")\n",
    "plt.xticks(rotation=0)\n",
    "plt.show()"
   ]
  }
 ],
 "metadata": {
  "kernelspec": {
   "display_name": "esgi",
   "language": "python",
   "name": "python3"
  },
  "language_info": {
   "codemirror_mode": {
    "name": "ipython",
    "version": 3
   },
   "file_extension": ".py",
   "mimetype": "text/x-python",
   "name": "python",
   "nbconvert_exporter": "python",
   "pygments_lexer": "ipython3",
   "version": "3.12.6"
  }
 },
 "nbformat": 4,
 "nbformat_minor": 2
}
